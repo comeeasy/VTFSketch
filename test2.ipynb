{
 "cells": [
  {
   "cell_type": "code",
   "execution_count": 5,
   "metadata": {},
   "outputs": [],
   "source": [
    "import cv2\n",
    "import torch\n",
    "\n",
    "import numpy as np\n",
    "import matplotlib.pyplot as plt\n",
    "%matplotlib inline\n",
    "import seaborn as sns\n",
    "\n",
    "from torch.utils.data import DataLoader\n",
    "from tqdm import tqdm\n",
    "\n",
    "from train2 import FCModel, CNNModel, ResCNN1DLayer, FPathDataset\n",
    "from src.dataloaders import FPathLazyDataset\n",
    "from src.utils import calculate_noise_metric"
   ]
  },
  {
   "cell_type": "markdown",
   "metadata": {},
   "source": [
    "### Model Load"
   ]
  },
  {
   "cell_type": "code",
   "execution_count": 2,
   "metadata": {},
   "outputs": [],
   "source": [
    "# CNNModel\n",
    "model = torch.load(\"/home/work/joono/VTFSketch/weights/best_CNNModel_acc78.31.pth\")\n",
    "\n",
    "# FCModel\n",
    "# model = torch.load(\"/home/work/joono/VTFSketch/weights/best_FCModel_acc77.46.pth\")\n",
    "\n",
    "model = model.to('cuda')\n",
    "model = model.eval()"
   ]
  },
  {
   "cell_type": "markdown",
   "metadata": {},
   "source": [
    "### Calculate test accuracy"
   ]
  },
  {
   "cell_type": "code",
   "execution_count": 3,
   "metadata": {},
   "outputs": [
    {
     "name": "stderr",
     "output_type": "stream",
     "text": [
      "100%|██████████| 142/142 [00:04<00:00, 32.35it/s]\n"
     ]
    }
   ],
   "source": [
    "test_dset = FPathDataset(\"/home/work/joono/VTFSketch/dataset/test.npz\")\n",
    "test_dloader = DataLoader(test_dset, batch_size=40960, num_workers=24)\n",
    "\n",
    "\n",
    "preds_list, targets_list = [], []\n",
    "with torch.no_grad():\n",
    "    for fpath, target in tqdm(test_dloader):\n",
    "        fpath, target = fpath.to('cuda'), target.to('cuda')\n",
    "        y_hat = model(fpath)\n",
    "\n",
    "        targets_list.append(target.detach().cpu().numpy())\n",
    "        preds_list.append(y_hat.detach().cpu().numpy())\n",
    "\n",
    "preds = np.concatenate(preds_list).flatten()\n",
    "targets = np.concatenate(targets_list).flatten()\n",
    "\n",
    "metric = calculate_noise_metric(preds=preds, targets=targets)\n"
   ]
  },
  {
   "cell_type": "code",
   "execution_count": 4,
   "metadata": {},
   "outputs": [
    {
     "data": {
      "text/plain": [
       "{'accuracy': 0.7560679044181146,\n",
       " 'f1score': 0.5277905538537488,\n",
       " 'recall': 0.4523362816557247,\n",
       " 'confusion_matrix': array([[3591810,  457164],\n",
       "        [ 956573,  790070]])}"
      ]
     },
     "execution_count": 4,
     "metadata": {},
     "output_type": "execute_result"
    }
   ],
   "source": [
    "metric"
   ]
  },
  {
   "cell_type": "code",
   "execution_count": 6,
   "metadata": {},
   "outputs": [
    {
     "data": {
      "text/plain": [
       "Text(50.722222222222214, 0.5, 'True Label')"
      ]
     },
     "execution_count": 6,
     "metadata": {},
     "output_type": "execute_result"
    },
    {
     "data": {
      "image/png": "[encoded data removed]",
      "text/plain": [
       "<Figure size 640x480 with 2 Axes>"
      ]
     },
     "metadata": {},
     "output_type": "display_data"
    }
   ],
   "source": [
    "sns.heatmap(metric['confusion_matrix'], annot=True, cmap='Blues')\n",
    "plt.xlabel('Predicted Label')\n",
    "plt.ylabel('True Label')"
   ]
  },
  {
   "cell_type": "markdown",
   "metadata": {},
   "source": [
    "# Test using dataset"
   ]
  },
  {
   "cell_type": "code",
   "execution_count": null,
   "metadata": {},
   "outputs": [],
   "source": [
    "dset = FPathLazyDataset(config_path=\"/home/work/joono/VTFSketch/dataset/test.yaml\")"
   ]
  },
  {
   "cell_type": "code",
   "execution_count": null,
   "metadata": {},
   "outputs": [],
   "source": [
    "fpath, _, infodraw, target = dset[2]\n",
    "\n",
    "print(f\"fpath: {type(fpath), fpath.shape}, infodraw: {type(infodraw), infodraw.shape}, target: {type(target), target.shape}\")\n",
    "\n",
    "fpath_tensor = torch.tensor(fpath).unsqueeze(0)\n",
    "infodraw_tensor = torch.tensor(infodraw).unsqueeze(0)\n",
    "target_tensor = torch.tensor(target).unsqueeze(0)\n",
    "\n",
    "fpath_tensor = fpath_tensor.to('cuda')\n",
    "infodraw_tensor = infodraw_tensor.to('cuda')\n",
    "target_tensor = target_tensor.to('cuda')\n",
    "\n",
    "print(f\"fpath_tensor: {type(fpath_tensor), fpath_tensor.shape}, infodraw: {type(infodraw_tensor), infodraw_tensor.shape}, target_tensor: {type(target_tensor), target_tensor.shape}\")"
   ]
  },
  {
   "cell_type": "markdown",
   "metadata": {},
   "source": [
    "# Test using wild image"
   ]
  },
  {
   "cell_type": "code",
   "execution_count": null,
   "metadata": {},
   "outputs": [],
   "source": [
    "from src.preprocesses import VTFPreprocessor, ImagePreprocessor, InfodrawPreprocessor"
   ]
  },
  {
   "cell_type": "code",
   "execution_count": null,
   "metadata": {},
   "outputs": [],
   "source": [
    "vtf_path = \"/home/work/joono/VTFSketch/dataset/hard_data/vtfs/simple_curve_fpath_of_infodraw.npz\"\n",
    "infodraw_path = \"/home/work/joono/VTFSketch/dataset/hard_data/infodraws/simple_curve_out.png\"\n",
    "\n",
    "fpath      = VTFPreprocessor.get(vtf_path)\n",
    "infodraw  = InfodrawPreprocessor.get(infodraw_path)\n",
    "\n",
    "fpath_tensor = torch.tensor(fpath).unsqueeze(0).to('cuda')\n",
    "infodraw_tensor = torch.tensor(infodraw).unsqueeze(0).to('cuda')"
   ]
  },
  {
   "cell_type": "markdown",
   "metadata": {},
   "source": [
    "# Inference"
   ]
  },
  {
   "cell_type": "code",
   "execution_count": null,
   "metadata": {},
   "outputs": [],
   "source": [
    "model = model.to('cuda')\n",
    "\n",
    "_, _, H, W = infodraw_tensor.shape\n",
    "\n",
    "result = infodraw_tensor.clone()\n",
    "\n",
    "target_indices = torch.where(infodraw_tensor < 0.99)\n",
    "selected_fpath_tensor = fpath_tensor[target_indices[0], :, target_indices[2], target_indices[3]]\n",
    "print(f\"selected_fpath_tensor: {selected_fpath_tensor.shape}\")\n",
    "\n",
    "with torch.no_grad():\n",
    "    y_hat = model(selected_fpath_tensor)\n",
    "\n",
    "y_hat = y_hat.squeeze()\n",
    "\n",
    "for i, (b, c, h, w) in enumerate(zip(target_indices[0], target_indices[1], target_indices[2], target_indices[3], )):\n",
    "    result[b, c, h, w] = y_hat[i]"
   ]
  },
  {
   "cell_type": "code",
   "execution_count": null,
   "metadata": {},
   "outputs": [],
   "source": [
    "np_result = result.squeeze().detach().cpu().numpy()"
   ]
  },
  {
   "cell_type": "code",
   "execution_count": null,
   "metadata": {},
   "outputs": [],
   "source": [
    "plt.figure(figsize=(10.24, 10.24))\n",
    "plt.imshow(np_result > 0.5, cmap='gray')\n",
    "plt.axis('off')\n",
    "cv2.imwrite(\"test_FC_903.png\", 255 * np.array(np_result > 0.5, dtype=np.float32))"
   ]
  },
  {
   "cell_type": "code",
   "execution_count": null,
   "metadata": {},
   "outputs": [],
   "source": [
    "plt.figure(figsize=(10.24, 10.24))\n",
    "plt.imshow(infodraw.squeeze(), cmap='gray')\n",
    "plt.axis('off')"
   ]
  },
  {
   "cell_type": "code",
   "execution_count": null,
   "metadata": {},
   "outputs": [],
   "source": [
    "model = model.to('cuda')\n",
    "\n",
    "_, _, H, W = infodraw_tensor.shape\n",
    "\n",
    "result = infodraw_tensor.clone()\n",
    "with torch.no_grad():\n",
    "    for h in tqdm(range(H)):\n",
    "        for w in range(W):\n",
    "            if infodraw_tensor[0, 0, h, w] < 0.99:\n",
    "                y_hat = model(fpath_tensor[0, :, h, w].unsqueeze(0))\n",
    "                result[0, 0, h, w] = y_hat"
   ]
  },
  {
   "cell_type": "code",
   "execution_count": null,
   "metadata": {},
   "outputs": [],
   "source": [
    "np_result = result.squeeze().detach().cpu().numpy()"
   ]
  },
  {
   "cell_type": "code",
   "execution_count": null,
   "metadata": {},
   "outputs": [],
   "source": [
    "plt.figure(figsize=(10.24, 10.24))\n",
    "plt.imshow(np_result > 0.5, cmap='gray')\n",
    "plt.axis('off')"
   ]
  },
  {
   "cell_type": "code",
   "execution_count": null,
   "metadata": {},
   "outputs": [],
   "source": []
  }
 ],
 "metadata": {
  "kernelspec": {
   "display_name": "Python 3",
   "language": "python",
   "name": "python3"
  },
  "language_info": {
   "codemirror_mode": {
    "name": "ipython",
    "version": 3
   },
   "file_extension": ".py",
   "mimetype": "text/x-python",
   "name": "python",
   "nbconvert_exporter": "python",
   "pygments_lexer": "ipython3",
   "version": "3.12.3"
  }
 },
 "nbformat": 4,
 "nbformat_minor": 2
}
