{
 "cells": [
  {
   "cell_type": "code",
   "execution_count": null,
   "metadata": {},
   "outputs": [],
   "source": [
    "import os\n",
    "os.environ[\"CUDA_VISIBLE_DEVICES\"] = \"1\"\n",
    "\n",
    "import cv2\n",
    "import matplotlib.pyplot as plt\n",
    "\n",
    "import torch\n",
    "from torch.utils.data import DataLoader\n",
    "\n",
    "from glob import glob\n",
    "\n",
    "from src.models import FPathPredictor\n",
    "from src.dataloaders import FPathDataset\n",
    "from src.utils import inference\n",
    "from src.preprocesses import VTFPreprocessor"
   ]
  },
  {
   "cell_type": "code",
   "execution_count": null,
   "metadata": {},
   "outputs": [],
   "source": [
    "vtf_paths = glob(\"/home/joono/fpath_infodraw/dataset/simple_data/test/vtfs/*\")\n",
    "vtf_paths.sort()\n",
    "vtfs      = [VTFPreprocessor.get_vtf(vtf_path) for vtf_path in vtf_paths]"
   ]
  },
  {
   "cell_type": "code",
   "execution_count": null,
   "metadata": {},
   "outputs": [],
   "source": [
    "weight_path = \"/home/joono/fpath_infodraw/checkpoints/best_model_epoch9.pt\"\n",
    "\n",
    "model = FPathPredictor()\n",
    "model.load_state_dict(torch.load(weight_path))\n",
    "\n",
    "model = model.to(\"cuda\")\n",
    "model = model.eval()"
   ]
  },
  {
   "cell_type": "code",
   "execution_count": null,
   "metadata": {},
   "outputs": [],
   "source": [
    "vtf, vtf_path = vtfs[1], vtf_paths[1]\n",
    "\n",
    "vtf = torch.tensor(vtf).to('cuda')\n",
    "pred = inference(model, vtf.unsqueeze(0))\n",
    "\n",
    "result = pred.squeeze().detach().cpu().numpy()\n",
    "result = result.transpose((1, 0))\n",
    "# plt.imshow(result, cmap=\"gray\")\n",
    "\n",
    "cv2.imwrite(f\"{os.path.basename(vtf_path).split('.')[0]}.png\", result * 255)"
   ]
  },
  {
   "cell_type": "code",
   "execution_count": 5,
   "metadata": {},
   "outputs": [],
   "source": [
    "from src.dataloaders import get_data_loaders, get_FPathUNetDataset, FPathUNetDataset"
   ]
  },
  {
   "cell_type": "code",
   "execution_count": 6,
   "metadata": {},
   "outputs": [],
   "source": [
    "dset = FPathUNetDataset(config_path=\"dataset/test.yaml\")"
   ]
  },
  {
   "cell_type": "code",
   "execution_count": 10,
   "metadata": {},
   "outputs": [],
   "source": [
    "vtf, img, target = dset[0]"
   ]
  },
  {
   "cell_type": "code",
   "execution_count": 11,
   "metadata": {},
   "outputs": [
    {
     "data": {
      "text/plain": [
       "((21, 1024, 1024), torch.Size([3, 1024, 1024]), torch.Size([1, 1024, 1024]))"
      ]
     },
     "execution_count": 11,
     "metadata": {},
     "output_type": "execute_result"
    }
   ],
   "source": [
    "vtf.shape, img.shape, target.shape"
   ]
  },
  {
   "cell_type": "code",
   "execution_count": 16,
   "metadata": {},
   "outputs": [
    {
     "data": {
      "text/plain": [
       "(20558826, 1461270)"
      ]
     },
     "execution_count": 16,
     "metadata": {},
     "output_type": "execute_result"
    }
   ],
   "source": [
    "import numpy as np\n",
    "np.sum(vtf == 1.0), np.sum(vtf < 1.0)"
   ]
  },
  {
   "cell_type": "code",
   "execution_count": 17,
   "metadata": {},
   "outputs": [
    {
     "data": {
      "text/plain": [
       "22020096"
      ]
     },
     "execution_count": 17,
     "metadata": {},
     "output_type": "execute_result"
    }
   ],
   "source": [
    "1024 * 1024 * 21"
   ]
  },
  {
   "cell_type": "code",
   "execution_count": null,
   "metadata": {},
   "outputs": [],
   "source": []
  }
 ],
 "metadata": {
  "kernelspec": {
   "display_name": "Python 3",
   "language": "python",
   "name": "python3"
  },
  "language_info": {
   "codemirror_mode": {
    "name": "ipython",
    "version": 3
   },
   "file_extension": ".py",
   "mimetype": "text/x-python",
   "name": "python",
   "nbconvert_exporter": "python",
   "pygments_lexer": "ipython3",
   "version": "3.11.7"
  }
 },
 "nbformat": 4,
 "nbformat_minor": 2
}
