{
 "cells": [
  {
   "cell_type": "code",
   "execution_count": null,
   "metadata": {},
   "outputs": [],
   "source": [
    "import os\n",
    "os.environ[\"CUDA_VISIBLE_DEVICES\"] = \"0\"\n",
    "\n",
    "import cv2\n",
    "import matplotlib.pyplot as plt\n",
    "\n",
    "import torch\n",
    "from torch.utils.data import DataLoader\n",
    "\n",
    "from glob import glob\n",
    "\n",
    "from src.models import FPathPredictor, UNetFPathPredictor\n",
    "from src.dataloaders import FPathDataset\n",
    "from src.utils import inference\n",
    "from src.preprocesses import VTFPreprocessor, VTFPreprocessorUNet, ImagePreprocessor"
   ]
  },
  {
   "cell_type": "code",
   "execution_count": null,
   "metadata": {},
   "outputs": [],
   "source": [
    "vtf_paths = glob(\"/home/joono/VTFSketch/dataset/simple_data/test/vtfs/*\")\n",
    "vtf_paths.sort()\n",
    "vtfs      = [VTFPreprocessorUNet.get(vtf_path) for vtf_path in vtf_paths]\n",
    "\n",
    "img_paths = glob(\"/home/joono/VTFSketch/dataset/simple_data/test/imgs/*\")\n",
    "img_paths.sort()\n",
    "imgs      = [ImagePreprocessor.get(img_path) for img_path in img_paths]"
   ]
  },
  {
   "cell_type": "code",
   "execution_count": null,
   "metadata": {},
   "outputs": [],
   "source": [
    "weight_path = \"/home/joono/VTFSketch/checkpoints/results_20240523_135551/best_model_loss_1_1141014397144318.pth\"\n",
    "\n",
    "model = UNetFPathPredictor()\n",
    "model.load_state_dict(torch.load(weight_path))\n",
    "\n",
    "model = model.to(\"cuda\")\n",
    "model = model.eval()"
   ]
  },
  {
   "cell_type": "code",
   "execution_count": null,
   "metadata": {},
   "outputs": [],
   "source": [
    "vtf, vtf_path = vtfs[1], vtf_paths[1]\n",
    "img, img_path = imgs[1], img_paths[1]\n",
    "\n",
    "print(f\"{vtf_path=}, {img_path=}\")\n",
    "\n",
    "vtf = torch.tensor(vtf).to('cuda')\n",
    "img = torch.tensor(img).to('cuda')\n",
    "pred = inference(model, vtf.unsqueeze(0), img.unsqueeze(0))\n",
    "\n",
    "result = pred.squeeze().detach().cpu().numpy()\n",
    "result = result.transpose((1, 0))\n",
    "# plt.imshow(result, cmap=\"gray\")\n",
    "\n",
    "cv2.imwrite(f\"{os.path.basename(vtf_path).split('.')[0]}.png\", result * 255)"
   ]
  },
  {
   "cell_type": "code",
   "execution_count": null,
   "metadata": {},
   "outputs": [],
   "source": [
    "import cv2\n",
    "import numpy as np\n",
    "\n",
    "import torch\n",
    "from src.dataloaders import get_data_loaders, get_FPathUNetDataset, UNetFPathDataset\n",
    "\n",
    "import matplotlib.pyplot as plt"
   ]
  },
  {
   "cell_type": "code",
   "execution_count": null,
   "metadata": {},
   "outputs": [],
   "source": [
    "dset = UNetFPathDataset(config_path=\"dataset/test.yaml\")"
   ]
  },
  {
   "cell_type": "code",
   "execution_count": null,
   "metadata": {},
   "outputs": [],
   "source": [
    "vtf, img, target = dset[0]"
   ]
  },
  {
   "cell_type": "code",
   "execution_count": null,
   "metadata": {},
   "outputs": [],
   "source": [
    "print(vtf.shape, img.shape, target.shape)\n",
    "print(np.min(vtf), np.max(vtf), torch.min(img), torch.max(img), torch.min(target), torch.max(target))"
   ]
  },
  {
   "cell_type": "code",
   "execution_count": null,
   "metadata": {},
   "outputs": [],
   "source": [
    "plt.imshow(vtf[10], cmap=\"gray\")"
   ]
  },
  {
   "cell_type": "code",
   "execution_count": null,
   "metadata": {},
   "outputs": [],
   "source": [
    "plt.imshow(img.permute((1, 2, 0)))"
   ]
  },
  {
   "cell_type": "code",
   "execution_count": null,
   "metadata": {},
   "outputs": [],
   "source": [
    "mask = torch.tensor(vtf[10, :, :] != 1.0)\n",
    "print(mask.shape)\n",
    "W, B = torch.sum(target), torch.sum(1-target)\n",
    "mask_W, mask_B = mask * target, mask * (1-target)"
   ]
  },
  {
   "cell_type": "code",
   "execution_count": null,
   "metadata": {},
   "outputs": [],
   "source": [
    "plt.figure(figsize=(10, 10))\n",
    "plt.imshow(vtf[10, :, :], cmap='gray')\n",
    "plt.axis('off')\n",
    "cv2.imwrite(\"infodraw.png\", vtf[10, :, :] * 255)"
   ]
  },
  {
   "cell_type": "code",
   "execution_count": null,
   "metadata": {},
   "outputs": [],
   "source": [
    "plt.figure(figsize=(10, 10))\n",
    "plt.imshow(mask.numpy(), cmap='gray')\n",
    "plt.axis('off')\n",
    "cv2.imwrite(\"mask.png\", mask.numpy() * 255)"
   ]
  },
  {
   "cell_type": "code",
   "execution_count": null,
   "metadata": {},
   "outputs": [],
   "source": [
    "plt.figure(figsize=(10, 10))\n",
    "plt.imshow(mask_W[0], cmap='gray')\n",
    "plt.axis('off')\n",
    "cv2.imwrite(\"mask_W.png\", mask_W[0].numpy() * 255)"
   ]
  },
  {
   "cell_type": "code",
   "execution_count": null,
   "metadata": {},
   "outputs": [],
   "source": [
    "plt.figure(figsize=(10, 10))\n",
    "plt.imshow(mask_B[0], cmap='gray')\n",
    "plt.axis('off')\n",
    "cv2.imwrite(\"mask_B.png\", mask_B[0].numpy() * 255)"
   ]
  },
  {
   "cell_type": "code",
   "execution_count": null,
   "metadata": {},
   "outputs": [],
   "source": [
    "plt.figure(figsize=(10, 10))\n",
    "plt.imshow(target[0], cmap='gray')\n",
    "plt.axis('off')\n",
    "cv2.imwrite(\"target_W.png\", target[0].numpy() * 255)"
   ]
  },
  {
   "cell_type": "code",
   "execution_count": null,
   "metadata": {},
   "outputs": [],
   "source": [
    "plt.figure(figsize=(10, 10))\n",
    "plt.imshow(1-target[0], cmap='gray')\n",
    "plt.axis('off')\n",
    "cv2.imwrite(\"target_B.png\", (1-target[0]).numpy() * 255)"
   ]
  },
  {
   "cell_type": "code",
   "execution_count": null,
   "metadata": {},
   "outputs": [],
   "source": []
  }
 ],
 "metadata": {
  "kernelspec": {
   "display_name": "Python 3",
   "language": "python",
   "name": "python3"
  },
  "language_info": {
   "codemirror_mode": {
    "name": "ipython",
    "version": 3
   },
   "file_extension": ".py",
   "mimetype": "text/x-python",
   "name": "python",
   "nbconvert_exporter": "python",
   "pygments_lexer": "ipython3",
   "version": "3.11.7"
  }
 },
 "nbformat": 4,
 "nbformat_minor": 2
}
