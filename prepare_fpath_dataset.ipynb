{
 "cells": [
  {
   "cell_type": "code",
   "execution_count": 1,
   "metadata": {},
   "outputs": [],
   "source": [
    "import numpy as np\n",
    "\n",
    "import torch\n",
    "import torch.nn as nn\n",
    "import torch.nn.init as init\n",
    "import torch.optim as optim\n",
    "\n",
    "from torch.utils.data import Dataset, DataLoader\n",
    "\n",
    "from tqdm import tqdm\n",
    "\n",
    "from src.dataloaders import load_data_dict_from_yaml\n",
    "from src.preprocesses import VTFPreprocessor, InfodrawPreprocessor, TargetPreprocessor, ImagePreprocessor"
   ]
  },
  {
   "cell_type": "code",
   "execution_count": null,
   "metadata": {},
   "outputs": [],
   "source": [
    "def preprocess_fpath_target_data(input_yaml, output_npz):\n",
    "    yaml_data = load_data_dict_from_yaml(input_yaml)\n",
    "\n",
    "    fpath_list, target_list = [], []\n",
    "    for data in tqdm(yaml_data):\n",
    "        vtf         = VTFPreprocessor.get(data['vtf'])\n",
    "        infodraw    = InfodrawPreprocessor.get(data['infodraw'])\n",
    "        target      = TargetPreprocessor.get(data['target'])\n",
    "        \n",
    "        _, H, W = infodraw.shape\n",
    "        \n",
    "        for h in range(H):\n",
    "            for w in range(W):\n",
    "                if infodraw[0, h, w] < 0.99: # threshold 0.99 is magic number\n",
    "                    fpath_list.append(vtf[:, h, w])\n",
    "                    target_list.append(target[0, h, w])\n",
    "\n",
    "    print(f\"total nums: {len(fpath_list)}\")\n",
    "    np_fpath_list = np.array(fpath_list)\n",
    "    np_target_list = np.array(target_list)\n",
    "    np_target_list = np.expand_dims(np_target_list, axis=1)\n",
    "\n",
    "    np_data = np.concatenate([np_fpath_list, np_target_list], axis=1)\n",
    "    np.savez(output_npz, np_data)"
   ]
  },
  {
   "cell_type": "code",
   "execution_count": null,
   "metadata": {},
   "outputs": [],
   "source": [
    "preprocess_fpath_target_data(input_yaml=\"dataset/val.yaml\", output_npz=\"dataset/val.npz\")\n",
    "preprocess_fpath_target_data(input_yaml=\"dataset/test.yaml\", output_npz=\"dataset/test.npz\")\n",
    "preprocess_fpath_target_data(input_yaml=\"dataset/train_small.yaml\", output_npz=\"dataset/train_small.npz\")"
   ]
  },
  {
   "cell_type": "code",
   "execution_count": 2,
   "metadata": {},
   "outputs": [],
   "source": [
    "data = np.load(\"dataset/train_small.npz\", allow_pickle=True)[\"arr_0\"]"
   ]
  },
  {
   "cell_type": "code",
   "execution_count": 3,
   "metadata": {},
   "outputs": [
    {
     "data": {
      "text/plain": [
       "(46859895, 22)"
      ]
     },
     "execution_count": 3,
     "metadata": {},
     "output_type": "execute_result"
    }
   ],
   "source": [
    "data.shape"
   ]
  },
  {
   "cell_type": "code",
   "execution_count": null,
   "metadata": {},
   "outputs": [],
   "source": []
  }
 ],
 "metadata": {
  "kernelspec": {
   "display_name": "Python 3",
   "language": "python",
   "name": "python3"
  },
  "language_info": {
   "codemirror_mode": {
    "name": "ipython",
    "version": 3
   },
   "file_extension": ".py",
   "mimetype": "text/x-python",
   "name": "python",
   "nbconvert_exporter": "python",
   "pygments_lexer": "ipython3",
   "version": "3.12.3"
  }
 },
 "nbformat": 4,
 "nbformat_minor": 2
}
