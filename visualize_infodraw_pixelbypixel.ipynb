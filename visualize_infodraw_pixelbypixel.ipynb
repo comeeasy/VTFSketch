{
 "cells": [
  {
   "cell_type": "code",
   "execution_count": 1,
   "metadata": {},
   "outputs": [],
   "source": [
    "import cv2\n",
    "import numpy as np\n",
    "import matplotlib.pyplot as plt\n",
    "from PIL import Image\n",
    "\n",
    "import ipywidgets as widgets\n",
    "from ipywidgets import interact\n",
    "from IPython.display import display\n",
    "\n",
    "from sklearn.metrics import precision_score, recall_score, f1_score\n",
    "\n",
    "from src.dataloaders import FPathDataset, FPathLazyDataset"
   ]
  },
  {
   "cell_type": "code",
   "execution_count": null,
   "metadata": {},
   "outputs": [],
   "source": [
    "dataset = FPathLazyDataset(\"/home/work/joono/VTFSketch/dataset/val.yaml\")"
   ]
  },
  {
   "cell_type": "code",
   "execution_count": null,
   "metadata": {},
   "outputs": [],
   "source": [
    "def draw_gray_img(img):\n",
    "    plt.figure(figsize=(10.24, 10.24))\n",
    "    plt.imshow(img, cmap='gray')\n",
    "    plt.axis('off')\n",
    "    \n",
    "def draw_img(img):\n",
    "    plt.figure(0, figsize=(10.24, 10.24))\n",
    "    plt.imshow(img)\n",
    "    plt.axis('off')"
   ]
  },
  {
   "cell_type": "code",
   "execution_count": null,
   "metadata": {},
   "outputs": [],
   "source": [
    "def save_vtf_gif(vtf):\n",
    "    from IPython.display import Image as Img\n",
    "    from IPython.display import display\n",
    "    \n",
    "    infodraw = Image.fromarray(vtf[10] * 255)\n",
    "    infodraw.save(\"out.gif\", save_all=True, append_images=[Image.fromarray(vtf[i] * 255) for i in range(21)], loop=0xff, duration=500)"
   ]
  },
  {
   "cell_type": "code",
   "execution_count": null,
   "metadata": {},
   "outputs": [],
   "source": [
    "vtf, img, infodraw, target = dataset[6]\n",
    "vtf, img, infodraw, target = np.array(vtf), np.array(img), np.array(infodraw), np.array(target)\n",
    "\n",
    "print(vtf.shape, img.shape, infodraw.shape, target.shape)\n",
    "draw_gray_img(np.concatenate([infodraw[0], target[0]], axis=1))"
   ]
  },
  {
   "cell_type": "code",
   "execution_count": null,
   "metadata": {},
   "outputs": [],
   "source": [
    "@interact(threshold_w=widgets.FloatSlider(min=0.0, max=1.0, step=0.01, value=0.99, description='Threshold W'),\n",
    "          threshold_b=widgets.FloatSlider(min=0.0, max=1.0, step=0.01, value=0.0, description='Threshold B'))\n",
    "def display_visualizations(threshold_w, threshold_b):\n",
    "    global infodraw, target\n",
    "    \n",
    "    # Create an RGB image by stacking the grayscale image\n",
    "    infodraw_rgb = np.stack([infodraw[0], infodraw[0], infodraw[0]], axis=2)\n",
    "    infodraw_rgb_origin = infodraw_rgb.copy()\n",
    "    \n",
    "    # Apply thresholds\n",
    "    infodraw_rgb[np.where(infodraw[0] < threshold_w)] = [1.0, 0.0, 0.0]\n",
    "    # infodraw_rgb[np.where(target[0] == 0)] = [0.0, 0.0, 1.0]\n",
    "    \n",
    "    # print precision and recall\n",
    "    # precision_b = precision_score((1-target).flatten(), (infodraw[0] < threshold_b).flatten())\n",
    "    # recall_b    = recall_score((1-target).flatten(), (infodraw[0] < threshold_b).flatten())\n",
    "    # f1score_b   = f1_score((1-target).flatten(), (infodraw[0] < threshold_b).flatten())\n",
    "    # precision_w = precision_score((target).flatten(), (infodraw[0] > threshold_w).flatten())\n",
    "    # recall_w    = recall_score((target).flatten(), (infodraw[0] > threshold_w).flatten())\n",
    "    # f1score_w   = f1_score((target).flatten(), (infodraw[0] > threshold_w).flatten())\n",
    "    # print(f\"precision_b: {precision_b}, recall_b: {recall_b}, f1_score_b: {f1score_b}\")\n",
    "    # print(f\"precision_w: {precision_w}, recall_w: {recall_w}, f1_score_w: {f1score_w}\")\n",
    "    \n",
    "    # Display the image\n",
    "    plt.figure(figsize=(30.24, 10.48))\n",
    "    \n",
    "    plt.subplot(1, 3, 1)\n",
    "    plt.imshow(infodraw_rgb_origin)\n",
    "    plt.axis('off')\n",
    "    \n",
    "    plt.subplot(1, 3, 2)\n",
    "    plt.imshow(infodraw_rgb)\n",
    "    plt.axis('off')\n",
    "    \n",
    "    plt.subplot(1, 3, 3)\n",
    "    plt.imshow(target[0], cmap='gray')\n",
    "    plt.axis('off')\n",
    "    \n",
    "    # Display the histogram\n",
    "    # plt.subplot(2, 3, 4)\n",
    "    # plt.hist(infodraw[0][np.where(infodraw[0] < threshold_w)], bins=300)\n",
    "    # plt.axvline(x=threshold_w, color='r', linestyle='--')\n",
    "    # plt.axvline(x=threshold_b, color='b', linestyle='--')\n",
    "    # plt.ylim(0.0, 10000)\n",
    "    # plt.xlim(0.0, 1.0)\n",
    "    plt.show()"
   ]
  },
  {
   "cell_type": "code",
   "execution_count": null,
   "metadata": {},
   "outputs": [],
   "source": [
    "precision = precision_score((1-target).flatten(), (infodraw[0] < 0.8).flatten())"
   ]
  },
  {
   "cell_type": "code",
   "execution_count": null,
   "metadata": {},
   "outputs": [],
   "source": [
    "precision"
   ]
  },
  {
   "cell_type": "code",
   "execution_count": null,
   "metadata": {},
   "outputs": [],
   "source": []
  }
 ],
 "metadata": {
  "kernelspec": {
   "display_name": "Python 3",
   "language": "python",
   "name": "python3"
  },
  "language_info": {
   "codemirror_mode": {
    "name": "ipython",
    "version": 3
   },
   "file_extension": ".py",
   "mimetype": "text/x-python",
   "name": "python",
   "nbconvert_exporter": "python",
   "pygments_lexer": "ipython3",
   "version": "3.12.3"
  }
 },
 "nbformat": 4,
 "nbformat_minor": 2
}
